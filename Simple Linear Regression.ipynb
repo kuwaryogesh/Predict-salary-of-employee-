{
 "cells": [
  {
   "cell_type": "markdown",
   "metadata": {},
   "source": [
    "# Simple Linear Regression\n",
    "#### Concept of linear regresion\n",
    "**we can perform linear regresion on salary vs no of year of experiance** <br>\n",
    "y = b0+bx<br>\n",
    "b0- line intersect to y<br>\n",
    "b1-slop of the line<br>\n",
    "x-observation<br>\n",
    "or<br>\n",
    "y = mx + c<br>\n",
    "where<br>\n",
    "y = dependant variable<br>\n",
    "x = independant variable<br>\n",
    "\n",
    "we simply plot a linear relation between x vs y and try to cover up maximum points in linear regression\n",
    "\n",
    "#### Simple linear intuition (best fitting line)\n",
    "connect maximum points with the linear line vertically and **sum(yi-y^)^2** and minimum sum of squre that line is best fitting line<br> \n",
    "yi-experiance<br>\n",
    "y^-salary<br>"
   ]
  },
  {
   "cell_type": "code",
   "execution_count": 1,
   "metadata": {},
   "outputs": [],
   "source": [
    "#importing the libraries\n",
    "import numpy as np\n",
    "import pandas as pd\n",
    "import matplotlib.pyplot as plt\n",
    "\n"
   ]
  },
  {
   "cell_type": "code",
   "execution_count": 30,
   "metadata": {},
   "outputs": [
    {
     "name": "stdout",
     "output_type": "stream",
     "text": [
      "   YearsExperience   Salary\n",
      "0              1.1  39343.0\n",
      "1              1.3  46205.0\n",
      "2              1.5  37731.0\n",
      "3              2.0  43525.0\n",
      "(30, 2)\n",
      "    YearsExperience    Salary\n",
      "24              8.7  109431.0\n",
      "25              9.0  105582.0\n",
      "26              9.5  116969.0\n",
      "27              9.6  112635.0\n",
      "28             10.3  122391.0\n",
      "29             10.5  121872.0\n"
     ]
    }
   ],
   "source": [
    "#importing data set\n",
    "data_set = pd.read_csv('salary_Data.csv')\n",
    "print(data_set.head(4))\n",
    "print(data_set.shape)\n",
    "print(data_set.tail(6))"
   ]
  },
  {
   "cell_type": "code",
   "execution_count": 4,
   "metadata": {},
   "outputs": [
    {
     "name": "stdout",
     "output_type": "stream",
     "text": [
      "(30, 1)\n",
      "(30,)\n"
     ]
    }
   ],
   "source": [
    "X = data_set.iloc[:,:-1].values #indepandent variable\n",
    "y = data_set.iloc[:,1].values\n",
    "print(X.shape)\n",
    "print(y.shape)"
   ]
  },
  {
   "cell_type": "code",
   "execution_count": 19,
   "metadata": {},
   "outputs": [
    {
     "name": "stdout",
     "output_type": "stream",
     "text": [
      "(20, 1)\n",
      "(10, 1)\n",
      "(20,)\n",
      "(10,)\n"
     ]
    }
   ],
   "source": [
    "#Spliting the dataset into training and testing data set\n",
    "from sklearn.model_selection import train_test_split\n",
    "X_train, X_test ,y_train, y_test= train_test_split(X,y ,test_size = 1/3,random_state = 0)\n",
    "print(X_train.shape)\n",
    "print(X_test.shape)\n",
    "print(y_train.shape)\n",
    "print(y_test.shape)\n",
    "\n"
   ]
  },
  {
   "cell_type": "raw",
   "metadata": {},
   "source": [
    "#feature Scaling\n",
    "from sklearn.preprocessing import StandardScaler\n",
    "sc_x = StandardScaler()\n",
    "x_train = sc_x.fit_transform(X)\n",
    "x_test = sc_x.fit(x_test)\n",
    "sc_y = StandardScaler()\n",
    "\n",
    "y_train = sc_y.fit_transform(y_train)\n",
    "y_train = sc_y.fit(y_train)\n",
    "print(x_tarin.shape)\n",
    "print(y_train.shape)"
   ]
  },
  {
   "cell_type": "raw",
   "metadata": {},
   "source": [
    "#Fit means our simple linear regression model learn the or fit the trainning data in regression to predict our test data set\n",
    "here it predict no of salary on the basis of no year experiance "
   ]
  },
  {
   "cell_type": "code",
   "execution_count": 22,
   "metadata": {},
   "outputs": [
    {
     "data": {
      "text/plain": [
       "LinearRegression(copy_X=True, fit_intercept=True, n_jobs=1, normalize=False)"
      ]
     },
     "execution_count": 22,
     "metadata": {},
     "output_type": "execute_result"
    }
   ],
   "source": [
    "# we can import libraries from sci-kit learn called linear model for linear regression and we create a class called as regressor\n",
    "from sklearn.linear_model import LinearRegression\n",
    "regressor = LinearRegression()\n",
    "#class contains some method we can fit using this method in linear regression\n",
    "regressor.fit(X_train,y_train)"
   ]
  },
  {
   "cell_type": "markdown",
   "metadata": {},
   "source": [
    "## Predicting the test set result"
   ]
  },
  {
   "cell_type": "code",
   "execution_count": 45,
   "metadata": {},
   "outputs": [
    {
     "name": "stdout",
     "output_type": "stream",
     "text": [
      "[ 40835.10590871 123079.39940819  65134.55626083  63265.36777221\n",
      " 115602.64545369 108125.8914992  116537.23969801  64199.96201652\n",
      "  76349.68719258 100649.1375447 ]\n"
     ]
    }
   ],
   "source": [
    "y_pred =regressor.predict(X_test)\n",
    "print(y_pred)"
   ]
  },
  {
   "cell_type": "markdown",
   "metadata": {},
   "source": [
    "## Visualising the training set result"
   ]
  },
  {
   "cell_type": "code",
   "execution_count": 52,
   "metadata": {},
   "outputs": [
    {
     "data": {
      "image/png": "[encoded data removed]",
      "text/plain": [
       "<Figure size 432x288 with 1 Axes>"
      ]
     },
     "metadata": {},
     "output_type": "display_data"
    }
   ],
   "source": [
    "#we can use scatter plot to visualising data\n",
    "plt.scatter(X_train,y_train,color = 'red') #we can take train data set to predict experiance vs salary\n",
    "plt.plot(X_train,regressor.predict(X_train),color = 'blue') #we want to prdict regrssion value after training data set\n",
    "\n",
    "plt.xlabel('Year of Experiance')\n",
    "plt.ylabel('Salary')\n",
    "plt.title('Experiance VS Salary')\n",
    "plt.show()"
   ]
  },
  {
   "cell_type": "markdown",
   "metadata": {},
   "source": [
    "## Summery\n",
    "**1.Red dot indicates real values of year of experiance and salary.**<br>\n",
    "**2.pridected values indicate the blue linear line**<br>\n",
    "**3.for predicting the values red dots are projected to blue linear line and we can check salary vs year of experiance**<br>\n",
    "\n",
    "# Visualising the test set result"
   ]
  },
  {
   "cell_type": "code",
   "execution_count": 60,
   "metadata": {},
   "outputs": [
    {
     "data": {
      "image/png": "[encoded data removed]",
      "text/plain": [
       "<Figure size 432x288 with 1 Axes>"
      ]
     },
     "metadata": {},
     "output_type": "display_data"
    }
   ],
   "source": [
    "plt.scatter(X_test,y_test,color = 'red') #we can check the result of test data set which can we train on training data set\n",
    "plt.plot(X_train,regressor.predict(X_train),color = 'blue')#here we can not change the train data set because test data set allready train on this data so no need to change \n",
    "#we can use scatter plot to visualising data\n",
    "\n",
    "plt.xlabel('Year of Experiance')\n",
    "plt.ylabel('Salary')\n",
    "plt.title('Year of Experiance VS Salary')\n",
    "plt.show()"
   ]
  },
  {
   "cell_type": "markdown",
   "metadata": {},
   "source": [
    "## Observation\n",
    "**1.predicited salary is approximatly equal to salary of employee** \n"
   ]
  }
 ],
 "metadata": {
  "kernelspec": {
   "display_name": "Python 3",
   "language": "python",
   "name": "python3"
  },
  "language_info": {
   "codemirror_mode": {
    "name": "ipython",
    "version": 3
   },
   "file_extension": ".py",
   "mimetype": "text/x-python",
   "name": "python",
   "nbconvert_exporter": "python",
   "pygments_lexer": "ipython3",
   "version": "3.6.5"
  }
 },
 "nbformat": 4,
 "nbformat_minor": 2
}
